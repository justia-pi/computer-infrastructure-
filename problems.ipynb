{
 "cells": [
  {
   "cell_type": "markdown",
   "id": "93834ec1",
   "metadata": {},
   "source": [
    "# Problems  "
   ]
  },
  {
   "cell_type": "code",
   "execution_count": 3,
   "id": "ae715ce4",
   "metadata": {},
   "outputs": [],
   "source": [
    "import numpy as np\n",
    "import pandas as pd"
   ]
  },
  {
   "cell_type": "markdown",
   "id": "5e0bfc44",
   "metadata": {},
   "source": [
    "## Importing a package yfinance from https://anaconda.org/conda-forge/yfinance "
   ]
  },
  {
   "cell_type": "code",
   "execution_count": 7,
   "id": "bf8bbf6b",
   "metadata": {},
   "outputs": [],
   "source": [
    "import yfinance as yf"
   ]
  },
  {
   "cell_type": "markdown",
   "id": "4c555255",
   "metadata": {},
   "source": [
    "## Problem 1 - Data from yfinance "
   ]
  },
  {
   "cell_type": "code",
   "execution_count": 10,
   "id": "d40200b2",
   "metadata": {},
   "outputs": [
    {
     "name": "stderr",
     "output_type": "stream",
     "text": [
      "/tmp/ipykernel_8446/964193536.py:1: FutureWarning: YF.download() has changed argument auto_adjust default to True\n",
      "  data = yf.download(\"AAPL\", start=\"2025-09-01\")\n",
      "[*********************100%***********************]  1 of 1 completed\n"
     ]
    }
   ],
   "source": [
    "data = yf.download(\"AAPL\", start=\"2025-09-01\")\n",
    "\n",
    "    "
   ]
  }
 ],
 "metadata": {
  "kernelspec": {
   "display_name": "Python 3",
   "language": "python",
   "name": "python3"
  },
  "language_info": {
   "codemirror_mode": {
    "name": "ipython",
    "version": 3
   },
   "file_extension": ".py",
   "mimetype": "text/x-python",
   "name": "python",
   "nbconvert_exporter": "python",
   "pygments_lexer": "ipython3",
   "version": "3.12.1"
  }
 },
 "nbformat": 4,
 "nbformat_minor": 5
}
